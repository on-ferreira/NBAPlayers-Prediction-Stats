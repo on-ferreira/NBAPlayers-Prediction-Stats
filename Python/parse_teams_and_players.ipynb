{
 "cells": [
  {
   "cell_type": "code",
   "execution_count": 1,
   "metadata": {
    "is_executing": true
   },
   "outputs": [],
   "source": [
    "import os\n",
    "from bs4 import BeautifulSoup\n",
    "from datetime import datetime\n"
   ]
  },
  {
   "cell_type": "code",
   "execution_count": 2,
   "metadata": {
    "collapsed": false,
    "jupyter": {
     "outputs_hidden": false
    }
   },
   "outputs": [],
   "source": [
    "DATA_DIR = \"DATA\"\n",
    "TEAMS_DIR = os.path.join(DATA_DIR, \"TEAMS\")\n",
    "PLAYERS_DIR = os.path.join(DATA_DIR, \"PLAYERS\")\n",
    "\n",
    "teams_pages = os.listdir(TEAMS_DIR)\n",
    "teams_pages =  [os.path.join(TEAMS_DIR, f) for f in teams_pages if f.endswith(\".html\")]"
   ]
  },
  {
   "cell_type": "code",
   "execution_count": 4,
   "metadata": {
    "collapsed": false,
    "jupyter": {
     "outputs_hidden": false
    }
   },
   "outputs": [],
   "source": [
    "def parse_html(page):\n",
    "    with open(page, encoding=None, errors=\"replace\") as f:\n",
    "        html = f.read()\n",
    "\n",
    "    soup = BeautifulSoup(html, features=\"html.parser\")\n",
    "\n",
    "    return soup"
   ]
  },
  {
   "cell_type": "code",
   "execution_count": 23,
   "metadata": {},
   "outputs": [],
   "source": [
    "def find_team(soup):\n",
    "    selector = \"div.TeamHeader_name__MmHlP\"\n",
    "    element = soup.select_one(selector)\n",
    "\n",
    "    if element:\n",
    "        text_content = element.get_text()\n",
    "        return text_content\n",
    "    else:\n",
    "        return \"Team not found\"\n",
    "\n",
    "\n",
    "def find_region(soup):\n",
    "    selector = \"div.TeamHeader_record__wzofp\"\n",
    "    element = soup.select_one(selector)\n",
    "    \n",
    "    if element:\n",
    "        text_content = element.get_text().split()[-1]\n",
    "        return text_content\n",
    "    else:\n",
    "        return \"Region not found\"\n",
    "\n",
    "\n",
    "def find_players_info(soup):\n",
    "    selector = \"div.Crom_container__C45Ti\"\n",
    "    table_element = soup.select_one(selector)\n",
    "    \n",
    "    if table_element:\n",
    "        rows = table_element.find_all('tr')\n",
    "        table = []\n",
    "        \n",
    "        for row in rows:\n",
    "            cells = row.find_all('td')\n",
    "            row_data = [cell.get_text(strip=True) for cell in cells]\n",
    "            table.append(row_data)\n",
    "            \n",
    "        return table\n",
    "    else:\n",
    "        return \"Table element not found\"\n",
    "\n",
    "\n",
    "def find_head_coach(soup):\n",
    "    soup = parse_html(teams_pages[0])\n",
    "    selector = \"#__next > div.Layout_base__6IeUC.Layout_justNav__2H4H0 > div.Layout_mainContent__jXliI > main > div.MaxWidthContainer_mwc__ID5AG > section.Block_block__62M07.nba-stats-content-block > div > div.w-full.sm\\:w-1\\/3.px-0.mx-0.mt-5.mb-1 > div > div.Crom_container__C45Ti.crom-container > table > tbody > tr:nth-child(1) > td:nth-child(2)\"\n",
    "    #I know this isn't a good practice, but I'm not being able to choose the correct selector\n",
    "    element = soup.select_one(selector)\n",
    "    \n",
    "    if element:\n",
    "        text_content = element.get_text(strip=True)\n",
    "        return text_content\n",
    "    else:\n",
    "        return \"Coach not found\"\n",
    "\n",
    "\n",
    "def create_or_update_team(soup):\n",
    "    team_name = find_team(soup)\n",
    "    region = find_region(soup)\n",
    "    head_coach = find_head_coach(soup)\n",
    "\n",
    "    team, created = Team.objects.get_or_create(\n",
    "        name=team_name,\n",
    "        defaults={'head_coach': head_coach, 'region': region}\n",
    "    )\n",
    "\n",
    "    return team\n",
    "\n",
    "def create_or_update_player(player_data, team):\n",
    "    player_name,_, position, height, weight, birth_date_str , _, _, _, _= player_data\n",
    "\n",
    "    player_name = player_name.lower()\n",
    "    \n",
    "    birth_date = datetime.strptime(birth_date, \"%b %d, %Y\").date()\n",
    "\n",
    "    player, created = Player.objects.get_or_create(\n",
    "        name=player_name,\n",
    "        defaults={'position': position, 'height': height, 'weight': weight, 'birth_date': birth_date, 'team': team}\n",
    "    )\n",
    "\n",
    "    return player\n",
    "\n",
    "def create_or_update_game(game_data, home_team, away_team):\n",
    "    date_str, location = game_data\n",
    "\n",
    "    date = parse_date(date_str)\n",
    "\n",
    "    game, created = Game.objects.get_or_create(\n",
    "        date=date,\n",
    "        home_team=home_team,\n",
    "        away_team=away_team,\n",
    "        defaults={'location': location}\n",
    "    )\n",
    "\n",
    "    return game\n",
    "\n",
    "import csv\n",
    "from django.core.management.base import BaseCommand\n",
    "from nba_stats.models import GameStatistics, Player, Game, Team\n",
    "from datetime import datetime\n",
    "\n",
    "class Command(BaseCommand):\n",
    "    help = 'Import statistics from a CSV file'\n",
    "\n",
    "    def add_arguments(self, parser):\n",
    "        parser.add_argument('csv_file', type=str, help='Path to the CSV file')\n",
    "\n",
    "    def handle(self, *args, **kwargs):\n",
    "        csv_file_path = kwargs['csv_file']\n",
    "\n",
    "        with open(csv_file_path, 'r') as file:\n",
    "            reader = csv.DictReader(file)\n",
    "            \n",
    "            for row in reader:\n",
    "                # Assuming your CSV columns match your model fields\n",
    "                player, created = Player.objects.get_or_create(name=row['Name'])\n",
    "                game, created = Game.objects.get_or_create(date=datetime.strptime(row['date'], \"%Y-%m-%d\"),\n",
    "                                                           home_team=Team.objects.get(name=row['team']),\n",
    "                                                           away_team=Team.objects.get(name=row['opp']))\n",
    "\n",
    "                GameStatistics.objects.create(\n",
    "                    game=game,\n",
    "                    player=player,\n",
    "                    MP=float(row['MP']),\n",
    "                    FG=int(row['FG']),\n",
    "                    FGA=int(row['FGA']),\n",
    "                    ThreeP=int(row['3P']),\n",
    "                    ThreePA=int(row['3PA']),\n",
    "                    FT=int(row['FT']),\n",
    "                    FTA=int(row['FTA']),\n",
    "                    ORB=int(row['ORB']),\n",
    "                    DRB=int(row['DRB']),\n",
    "                    TRB=int(row['TRB']),\n",
    "                    AST=int(row['AST']),\n",
    "                    STL=int(row['STL']),\n",
    "                    BLK=int(row['BLK']),\n",
    "                    TOV=int(row['TOV']),\n",
    "                    PF=int(row['PF']),\n",
    "                    PTS=int(row['PTS']),\n",
    "                    plus_minus=int(row['+/-']),\n",
    "                    TS_percentage=float(row['TS%']),\n",
    "                    eFG_percentage=float(row['eFG%']),\n",
    "                    ThreePAr=float(row['3PAr']),\n",
    "                    FTr=float(row['FTr']),\n",
    "                    ORB_percentage=float(row['ORB%']),\n",
    "                    DRB_percentage=float(row['DRB%']),\n",
    "                    TRB_percentage=float(row['TRB%']),\n",
    "                    AST_percentage=float(row['AST%']),\n",
    "                    STL_percentage=float(row['STL%']),\n",
    "                    BLK_percentage=float(row['BLK%']),\n",
    "                    TOV_percentage=float(row['TOV%']),\n",
    "                    USG_percentage=float(row['USG%']),\n",
    "                    ORtg=int(row['ORtg']),\n",
    "                    DRtg=int(row['DRtg']),\n",
    "                    BPM=float(row['BPM'])\n",
    "                )\n",
    "\n",
    "        self.stdout.write(self.style.SUCCESS('Successfully imported data from CSV.'))\n"
   ]
  },
  {
   "cell_type": "code",
   "execution_count": 22,
   "metadata": {},
   "outputs": [
    {
     "name": "stdout",
     "output_type": "stream",
     "text": [
      "Quin Snyder\n"
     ]
    }
   ],
   "source": [
    "from game in team_games:\n",
    "    soup = parse_html(game)\n",
    "    create_or_update_team(soup)\n",
    "    players = find_players_info(soup)\n",
    "    for player in players:\n",
    "        if len(player) > 0:\n",
    "            create_or_update_player(player)\n",
    "    "
   ]
  },
  {
   "cell_type": "code",
   "execution_count": 16,
   "metadata": {},
   "outputs": [
    {
     "data": {
      "text/plain": [
       "['Miles Norris',\n",
       " '#0',\n",
       " 'F',\n",
       " '6-7',\n",
       " '220 lbs',\n",
       " 'APR 15, 2000',\n",
       " '23',\n",
       " 'R',\n",
       " 'California-Santa Barbara',\n",
       " 'Signed on 07/06/23']"
      ]
     },
     "execution_count": 16,
     "metadata": {},
     "output_type": "execute_result"
    }
   ],
   "source": []
  },
  {
   "cell_type": "code",
   "execution_count": null,
   "metadata": {},
   "outputs": [],
   "source": []
  }
 ],
 "metadata": {
  "kernelspec": {
   "display_name": "Python 3 (ipykernel)",
   "language": "python",
   "name": "python3"
  },
  "language_info": {
   "codemirror_mode": {
    "name": "ipython",
    "version": 3
   },
   "file_extension": ".py",
   "mimetype": "text/x-python",
   "name": "python",
   "nbconvert_exporter": "python",
   "pygments_lexer": "ipython3",
   "version": "3.9.13"
  }
 },
 "nbformat": 4,
 "nbformat_minor": 4
}
