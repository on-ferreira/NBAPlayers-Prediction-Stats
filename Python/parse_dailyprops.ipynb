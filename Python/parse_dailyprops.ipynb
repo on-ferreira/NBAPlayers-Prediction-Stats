{
 "cells": [
  {
   "cell_type": "code",
   "execution_count": 78,
   "metadata": {
    "ExecuteTime": {
     "end_time": "2023-11-13T23:28:35.049153700Z",
     "start_time": "2023-11-13T23:28:35.017636400Z"
    },
    "collapsed": true,
    "jupyter": {
     "outputs_hidden": true
    }
   },
   "outputs": [],
   "source": [
    "import os\n",
    "import pandas as pd\n",
    "from bs4 import BeautifulSoup\n",
    "import re\n"
   ]
  },
  {
   "cell_type": "code",
   "execution_count": 3,
   "metadata": {
    "ExecuteTime": {
     "end_time": "2023-11-13T21:23:31.193125200Z",
     "start_time": "2023-11-13T21:23:31.175609200Z"
    },
    "collapsed": false,
    "jupyter": {
     "outputs_hidden": false
    }
   },
   "outputs": [],
   "source": [
    "DATA_DIR = \"data\"\n",
    "DAILY_DIR = os.path.join(DATA_DIR, \"DAILYLINES\")\n",
    "\n",
    "player_props = os.listdir(DAILY_DIR)\n",
    "player_props = [os.path.join(DAILY_DIR, f) for f in player_props if f.endswith(\".html\")]"
   ]
  },
  {
   "cell_type": "code",
   "execution_count": 79,
   "metadata": {
    "ExecuteTime": {
     "end_time": "2023-11-13T23:28:40.123662500Z",
     "start_time": "2023-11-13T23:28:40.121654600Z"
    },
    "collapsed": false,
    "jupyter": {
     "outputs_hidden": false
    }
   },
   "outputs": [],
   "source": [
    "\n",
    "def parse_html(pp):\n",
    "    with open(pp, encoding=None, errors=\"replace\") as f:\n",
    "        html = f.read()\n",
    "\n",
    "    soup = BeautifulSoup(html, features=\"html.parser\")\n",
    "\n",
    "    return soup\n"
   ]
  },
  {
   "cell_type": "code",
   "execution_count": 63,
   "metadata": {
    "ExecuteTime": {
     "end_time": "2023-11-13T23:03:51.532088300Z",
     "start_time": "2023-11-13T23:03:51.526623800Z"
    },
    "collapsed": false,
    "jupyter": {
     "outputs_hidden": false
    }
   },
   "outputs": [],
   "source": [
    "\n",
    "markets = {\n",
    "    'pontos mais/menos': 'PTS',\n",
    "    'rebotes mais/menos': 'TRB',\n",
    "    'assistências mais/menos': 'AST',\n",
    "    'total arremessos de três pontos marcados +/-': '3P',\n",
    "    'roubos mais/menos': 'STL',\n",
    "    'bloqueios mais/menos': 'BLK',\n",
    "    'turnover mais/menos': 'TOV',\n",
    "    'pontos + rebotes + assistências mais/menos': 'PRA',\n",
    "    'pontos + rebotes mais/menos': 'PR',\n",
    "    'pontos + assistências mais/menos': 'PA'\n",
    "}\n",
    "\n",
    "teams_extended = {\n",
    "    'boston celtics': 'BOS', 'brooklyn nets': 'BKN', 'new york knicks': 'NYK', 'philadelphia 76ers': 'PHI',\n",
    "    'toronto raptors': 'TOR',\n",
    "    'chicago bulls': 'CHI', 'cleveland cavaliers': 'CLE', 'detroit pistons': 'DET', 'indiana pacers': 'IND',\n",
    "    'milwaukee bucks': 'MIL',\n",
    "    'golden state warriors': 'GSW', 'los angeles clippers': 'LAC', 'los angeles lakers': 'LAL', 'phoenix suns': 'PHX',\n",
    "    'sacramento kings': 'SAC',\n",
    "    'atlanta hawks': 'ATL', 'charlotte hornets': 'CHA', 'miami heat': 'MIA', 'orlando magic': 'ORL',\n",
    "    'washington wizards': 'WAS',\n",
    "    'denver nuggets': 'DEN', 'minnesota timberwolves': 'MIN', 'oklahoma city thunder': 'OKC',\n",
    "    'portland trail blazers': 'POR', 'utah jazz': 'UTA',\n",
    "    'dallas mavericks': 'DAL', 'houston rockets': 'HOU', 'memphis grizzlies': 'MEM', 'new orleans pelicans': 'NOP',\n",
    "    'san antonio spurs': 'SAS'\n",
    "}"
   ]
  },
  {
   "cell_type": "code",
   "execution_count": 60,
   "metadata": {
    "ExecuteTime": {
     "end_time": "2023-11-13T22:33:39.249028Z",
     "start_time": "2023-11-13T22:33:39.245027400Z"
    },
    "collapsed": false,
    "jupyter": {
     "outputs_hidden": false
    }
   },
   "outputs": [],
   "source": [
    "def find_teams(archive):\n",
    "    teams = []\n",
    "    new = archive.split('\\\\')[-1]\n",
    "    new = new.replace('-', ' ')\n",
    "    new = new.replace('.html', '')\n",
    "    new = new.split()\n",
    "    for n in new:\n",
    "        try:\n",
    "            teams.append(teamsDic[n])\n",
    "        except:\n",
    "            continue\n",
    "    return teams\n",
    "\n",
    "\n",
    "def parse_game(player_props):\n",
    "    for pp in player_props:\n",
    "        soup = parse_html(pp)\n",
    "\n",
    "        lines = soup.get_text(separator=\"--!--\")\n",
    "        lines_list = lines.split(\"--!--\")\n",
    "        for i, value in enumerate(lines_list):\n",
    "            try:\n",
    "                lines_list[i] = float(value)\n",
    "            except ValueError:\n",
    "                pass\n",
    "\n",
    "        strings_to_remove = ['', 'linha', 'mais de', 'menos de']\n",
    "        remove_index = []\n",
    "        for j in range(len(lines_list)):\n",
    "            lines_list[j] = lines_list[j].lower().strip() if isinstance(lines_list[j], str) else lines_list[j]\n",
    "            if lines_list[j] in strings_to_remove:\n",
    "                remove_index.append(j)\n",
    "        remove_index.reverse()\n",
    "        [lines_list.pop(i) for i in remove_index]\n",
    "        create_csv(pp, lines_list)\n",
    "\n"
   ]
  },
  {
   "cell_type": "code",
   "execution_count": 107,
   "metadata": {
    "ExecuteTime": {
     "end_time": "2023-11-13T23:39:57.776524600Z",
     "start_time": "2023-11-13T23:39:57.763524900Z"
    },
    "collapsed": false,
    "jupyter": {
     "outputs_hidden": false
    }
   },
   "outputs": [],
   "source": [
    "def create_csv(pp, lines):\n",
    "    game_html = pp.split('\\\\')[-1]\n",
    "    game = game_html.split('.')[0]\n",
    "    file_path = DAILY_DIR+\"\\\\\"+game+\"_props.csv\"\n",
    "    headers_row = [\"player\", \"team\", \"market\", \"line\", \"over\", \"under\"]\n",
    "    df = pd.DataFrame(columns=headers_row)\n",
    "\n",
    "    player = \"\"\n",
    "    team = \"\"\n",
    "    market = \"\"\n",
    "    line = 0\n",
    "    over = 0\n",
    "    under = 0\n",
    "\n",
    "    ending_points = ['double double', \"pontos + bloqueios mais/menos\", \"roubadas + bloqueios mais/menos\", \"rebotes + assistências mais/menos\"]\n",
    "    while len(lines) != 0:\n",
    "        actual = lines.pop(0)\n",
    "\n",
    "        if actual in ending_points:\n",
    "            print(\"Fim de Scripts\")\n",
    "            break\n",
    "        elif actual == 'ver menos':\n",
    "            actual = lines.pop(0)\n",
    "        elif actual in markets.keys():\n",
    "            market = actual\n",
    "        elif actual in teams_extended.keys():\n",
    "            team = teams_extended[actual]\n",
    "        else:\n",
    "            player = actual\n",
    "            line = float(lines.pop(0))\n",
    "            over = float(lines.pop(0))\n",
    "            under = float(lines.pop(0))\n",
    "            new_row = pd.DataFrame(\n",
    "                {\"player\": player, \"team\": team, \"market\": market, \"line\": line, \"over\": over, \"under\": under}, index=[0])\n",
    "            df = pd.concat([new_row,df.loc[:]]).reset_index(drop=True)\n",
    "\n",
    "    print('---------------------------------------------')\n",
    "    unique_teams = df['team'].unique()\n",
    "\n",
    "    def update_opp(row):\n",
    "        opposing_team = [team for team in unique_teams if team != row['team']]\n",
    "        return opposing_team[0] if opposing_team else ''\n",
    "\n",
    "    df['opp'] = df.apply(update_opp, axis=1)\n",
    "\n",
    "    df.to_csv(file_path)"
   ]
  },
  {
   "cell_type": "code",
   "execution_count": 108,
   "metadata": {
    "ExecuteTime": {
     "end_time": "2023-11-13T23:39:59.144153700Z",
     "start_time": "2023-11-13T23:39:58.324191200Z"
    },
    "collapsed": false,
    "jupyter": {
     "outputs_hidden": false
    }
   },
   "outputs": [
    {
     "name": "stdout",
     "output_type": "stream",
     "text": [
      "Fim de Scripts\n",
      "---------------------------------------------\n",
      "Fim de Scripts\n",
      "---------------------------------------------\n",
      "Fim de Scripts\n",
      "---------------------------------------------\n",
      "Fim de Scripts\n",
      "---------------------------------------------\n",
      "Fim de Scripts\n",
      "---------------------------------------------\n"
     ]
    }
   ],
   "source": [
    "parse_game(player_props)\n"
   ]
  },
  {
   "cell_type": "markdown",
   "metadata": {
    "collapsed": false,
    "jupyter": {
     "outputs_hidden": false
    }
   },
   "source": []
  },
  {
   "cell_type": "markdown",
   "metadata": {
    "collapsed": false,
    "jupyter": {
     "outputs_hidden": false
    }
   },
   "source": []
  }
 ],
 "metadata": {
  "kernelspec": {
   "display_name": "Python 3 (ipykernel)",
   "language": "python",
   "name": "python3"
  },
  "language_info": {
   "codemirror_mode": {
    "name": "ipython",
    "version": 3
   },
   "file_extension": ".py",
   "mimetype": "text/x-python",
   "name": "python",
   "nbconvert_exporter": "python",
   "pygments_lexer": "ipython3",
   "version": "3.9.13"
  }
 },
 "nbformat": 4,
 "nbformat_minor": 4
}
