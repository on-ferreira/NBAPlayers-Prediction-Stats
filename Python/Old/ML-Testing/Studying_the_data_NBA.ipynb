{
  "nbformat": 4,
  "nbformat_minor": 0,
  "metadata": {
    "colab": {
      "provenance": [],
      "authorship_tag": "ABX9TyPRmFqfEXkFdXgs77DEfMRQ",
      "include_colab_link": true
    },
    "kernelspec": {
      "name": "python3",
      "display_name": "Python 3"
    },
    "language_info": {
      "name": "python"
    }
  },
  "cells": [
    {
      "cell_type": "markdown",
      "metadata": {
        "id": "view-in-github",
        "colab_type": "text"
      },
      "source": [
        "<a href=\"https://colab.research.google.com/github/on-ferreira/NBAPlayers-Prediction-Stats/blob/main/Studying_the_data_NBA.ipynb\" target=\"_parent\"><img src=\"https://colab.research.google.com/assets/colab-badge.svg\" alt=\"Open In Colab\"/></a>"
      ]
    },
    {
      "cell_type": "code",
      "source": [],
      "metadata": {
        "id": "nzOGxAde8tmN"
      },
      "execution_count": null,
      "outputs": []
    },
    {
      "cell_type": "code",
      "execution_count": null,
      "metadata": {
        "id": "DdPTr1wE8ddd"
      },
      "outputs": [],
      "source": [
        "import pandas as pd\n",
        "import numpy as np\n",
        "import matplotlib as mpl\n",
        "import matplotlib.pyplot as plt\n",
        "from sklearn.model_selection import train_test_split\n",
        "from sklearn.ensemble import RandomForestClassifier\n",
        "import seaborn as sns# Carregando dataset\n",
        "\n",
        "\n",
        "df = pd.read_csv(\"stephen curry.csv\")"
      ]
    },
    {
      "cell_type": "code",
      "source": [
        "df = df.drop(columns = ['Unnamed: 0'])\n",
        "print(df)"
      ],
      "metadata": {
        "colab": {
          "base_uri": "https://localhost:8080/"
        },
        "id": "8uRMG_Aa9jaV",
        "outputId": "d9005bfd-cb92-4278-b15f-11695876505f"
      },
      "execution_count": null,
      "outputs": [
        {
          "output_type": "stream",
          "name": "stdout",
          "text": [
            "        MP    FG   FGA    FG%   3P   3PA    3P%    FT   FTA    FT%  ...  STL%  \\\n",
            "0    35.61  14.0  26.0  0.538  5.0  12.0  0.417   7.0   7.0  1.000  ...   2.7   \n",
            "1    27.40   9.0  15.0  0.600  4.0   9.0  0.444   3.0   4.0  0.750  ...   1.8   \n",
            "2    35.63  17.0  27.0  0.630  8.0  14.0  0.571  11.0  11.0  1.000  ...   5.1   \n",
            "3    28.40  10.0  16.0  0.625  4.0   8.0  0.500   6.0   6.0  1.000  ...   5.0   \n",
            "4    32.63   8.0  17.0  0.471  7.0  11.0  0.636   8.0   9.0  0.889  ...   1.5   \n",
            "..     ...   ...   ...    ...  ...   ...    ...   ...   ...    ...  ...   ...   \n",
            "513  32.18   9.0  21.0  0.429  5.0  12.0  0.417   6.0   7.0  0.857  ...   4.6   \n",
            "514  37.13  12.0  22.0  0.545  6.0  11.0  0.545   1.0   1.0  1.000  ...   2.8   \n",
            "515  40.68  14.0  26.0  0.538  7.0  14.0  0.500   8.0   9.0  0.889  ...   0.0   \n",
            "516  37.13   7.0  22.0  0.318  0.0   9.0  0.000   2.0   3.0  0.667  ...   2.7   \n",
            "517  39.93  12.0  21.0  0.571  6.0  11.0  0.545   4.0   4.0  1.000  ...   2.6   \n",
            "\n",
            "     BLK%  TOV%  USG%   ORtg   DRtg   BPM  opp  season        date  \n",
            "0     0.0   6.4  33.3  152.0   96.0  24.6  NOP    2016  2015-10-27  \n",
            "1     0.0   5.6  27.8  146.0   90.0  18.4  HOU    2016  2015-10-30  \n",
            "2     0.0   5.9  41.7  159.0  109.0  27.8  NOP    2016  2015-10-31  \n",
            "3     2.3  13.9  32.9  135.0   68.0  19.7  MEM    2016  2015-11-02  \n",
            "4     0.0   0.0  27.9  153.0  111.0  17.8  LAC    2016  2015-11-04  \n",
            "..    ...   ...   ...    ...    ...   ...  ...     ...         ...  \n",
            "513   0.0   7.7  36.4  114.0   87.0  13.5  BOS    2022  2022-06-05  \n",
            "514   0.0  11.8  32.7  114.0  124.0   7.5  BOS    2022  2022-06-08  \n",
            "515   0.0  14.3  36.3  133.0  107.0  14.5  BOS    2022  2022-06-10  \n",
            "516   0.0   4.1  31.2   81.0   98.0  -1.1  BOS    2022  2022-06-13  \n",
            "517   2.3   8.1  26.9  149.0   97.0  19.0  BOS    2022  2022-06-16  \n",
            "\n",
            "[518 rows x 39 columns]\n"
          ]
        }
      ]
    },
    {
      "cell_type": "code",
      "source": [
        "df2 = df.drop(columns=[\"FTA\", \"ORB\", \"DRB\", \"eFG%\",\"ORtg\",\"DRtg\",'+/-', 'MP.1','ORB%', 'DRB%','TRB%', 'AST%',\n",
        "       'STL%', 'BLK%', 'TOV%', 'USG%'])"
      ],
      "metadata": {
        "id": "t3a8yEoc9T4V"
      },
      "execution_count": null,
      "outputs": []
    },
    {
      "cell_type": "markdown",
      "source": [
        "Quais são os clusters formados entre pontos e minutos jogados[MP]?"
      ],
      "metadata": {
        "id": "gzzAKv1F9t7s"
      }
    },
    {
      "cell_type": "code",
      "source": [
        "print(df2.columns)"
      ],
      "metadata": {
        "colab": {
          "base_uri": "https://localhost:8080/"
        },
        "id": "nta1ifgPAvF-",
        "outputId": "0137c011-4f38-4e3e-c29f-b787956bbe67"
      },
      "execution_count": null,
      "outputs": [
        {
          "output_type": "stream",
          "name": "stdout",
          "text": [
            "Index(['MP', 'FG', 'FGA', 'FG%', '3P', '3PA', '3P%', 'FT', 'FT%', 'TRB', 'AST',\n",
            "       'STL', 'BLK', 'TOV', 'PF', 'PTS', 'TS%', '3PAr', 'FTr', 'BPM', 'opp',\n",
            "       'season', 'date'],\n",
            "      dtype='object')\n"
          ]
        }
      ]
    },
    {
      "cell_type": "code",
      "source": [
        "plt.figure(figsize=(8,4),dpi=288)\n",
        "df2.plot(kind='scatter', x=\"MP\", y=\"PTS\")\n",
        "plt.show()"
      ],
      "metadata": {
        "colab": {
          "base_uri": "https://localhost:8080/",
          "height": 297
        },
        "id": "y5DxhqWY9p8s",
        "outputId": "5e977ae7-6f05-4d09-ef63-2b47334b347a"
      },
      "execution_count": null,
      "outputs": [
        {
          "output_type": "display_data",
          "data": {
            "text/plain": [
              "<Figure size 2304x1152 with 0 Axes>"
            ]
          },
          "metadata": {}
        },
        {
          "output_type": "display_data",
          "data": {
            "text/plain": [
              "<Figure size 432x288 with 1 Axes>"
            ],
            "image/png": "[encoded data removed]"
          },
          "metadata": {
            "needs_background": "light"
          }
        }
      ]
    },
    {
      "cell_type": "code",
      "source": [
        "print(df2.corr())"
      ],
      "metadata": {
        "id": "2dts19chBPaM"
      },
      "execution_count": null,
      "outputs": []
    },
    {
      "cell_type": "code",
      "source": [
        "df2 = df2.drop(columns=['date'])"
      ],
      "metadata": {
        "id": "_vrCWscsEkO7"
      },
      "execution_count": null,
      "outputs": []
    },
    {
      "cell_type": "code",
      "source": [
        "df.opp.unique()\n",
        "dicTeams = {'NOP':'1', 'HOU':'2', 'MEM':'3', 'LAC':'4', 'DEN':'5', 'SAC':'6', 'DET':'7', 'MIN':'8', 'BRK':'9',\n",
        "       'TOR':'10', 'CHI':'11', 'LAL':'12', 'PHO':'13', 'UTA':'14', 'CHO':'15', 'IND':'16', 'BOS':'17', 'MIL':'18',\n",
        "       'CLE':'19', 'DAL':'20', 'POR':'21', 'MIA':'22', 'SAS':'23', 'PHI':'24', 'NYK':'25', 'WAS':'26', 'OKC':'27',\n",
        "       'ATL':'28', 'ORL':'29'}\n",
        "\n",
        "df2['opp'] = df2['opp'].map(dicTeams)\n"
      ],
      "metadata": {
        "colab": {
          "base_uri": "https://localhost:8080/"
        },
        "id": "htFvYQvTEf0M",
        "outputId": "e2d8b06a-3bc6-486e-eba9-6aeee05ad4f2"
      },
      "execution_count": null,
      "outputs": [
        {
          "output_type": "stream",
          "name": "stderr",
          "text": [
            "<ipython-input-60-5607f897934f>:7: SettingWithCopyWarning: \n",
            "A value is trying to be set on a copy of a slice from a DataFrame.\n",
            "Try using .loc[row_indexer,col_indexer] = value instead\n",
            "\n",
            "See the caveats in the documentation: https://pandas.pydata.org/pandas-docs/stable/user_guide/indexing.html#returning-a-view-versus-a-copy\n",
            "  df2['opp'] = df2['opp'].map(dicTeams)\n"
          ]
        }
      ]
    },
    {
      "cell_type": "code",
      "source": [
        "df2 = df.dropna()\n",
        "print(df2)"
      ],
      "metadata": {
        "colab": {
          "base_uri": "https://localhost:8080/"
        },
        "id": "5auDSeY9HS3c",
        "outputId": "86d0c266-d38c-485d-e306-b4e6666fc0a1"
      },
      "execution_count": null,
      "outputs": [
        {
          "output_type": "stream",
          "name": "stdout",
          "text": [
            "        MP    FG   FGA    FG%   3P   3PA    3P%    FT   FTA    FT%  ...  STL%  \\\n",
            "0    35.61  14.0  26.0  0.538  5.0  12.0  0.417   7.0   7.0  1.000  ...   2.7   \n",
            "1    27.40   9.0  15.0  0.600  4.0   9.0  0.444   3.0   4.0  0.750  ...   1.8   \n",
            "2    35.63  17.0  27.0  0.630  8.0  14.0  0.571  11.0  11.0  1.000  ...   5.1   \n",
            "3    28.40  10.0  16.0  0.625  4.0   8.0  0.500   6.0   6.0  1.000  ...   5.0   \n",
            "4    32.63   8.0  17.0  0.471  7.0  11.0  0.636   8.0   9.0  0.889  ...   1.5   \n",
            "..     ...   ...   ...    ...  ...   ...    ...   ...   ...    ...  ...   ...   \n",
            "513  32.18   9.0  21.0  0.429  5.0  12.0  0.417   6.0   7.0  0.857  ...   4.6   \n",
            "514  37.13  12.0  22.0  0.545  6.0  11.0  0.545   1.0   1.0  1.000  ...   2.8   \n",
            "515  40.68  14.0  26.0  0.538  7.0  14.0  0.500   8.0   9.0  0.889  ...   0.0   \n",
            "516  37.13   7.0  22.0  0.318  0.0   9.0  0.000   2.0   3.0  0.667  ...   2.7   \n",
            "517  39.93  12.0  21.0  0.571  6.0  11.0  0.545   4.0   4.0  1.000  ...   2.6   \n",
            "\n",
            "     BLK%  TOV%  USG%   ORtg   DRtg   BPM  opp  season        date  \n",
            "0     0.0   6.4  33.3  152.0   96.0  24.6  NOP    2016  2015-10-27  \n",
            "1     0.0   5.6  27.8  146.0   90.0  18.4  HOU    2016  2015-10-30  \n",
            "2     0.0   5.9  41.7  159.0  109.0  27.8  NOP    2016  2015-10-31  \n",
            "3     2.3  13.9  32.9  135.0   68.0  19.7  MEM    2016  2015-11-02  \n",
            "4     0.0   0.0  27.9  153.0  111.0  17.8  LAC    2016  2015-11-04  \n",
            "..    ...   ...   ...    ...    ...   ...  ...     ...         ...  \n",
            "513   0.0   7.7  36.4  114.0   87.0  13.5  BOS    2022  2022-06-05  \n",
            "514   0.0  11.8  32.7  114.0  124.0   7.5  BOS    2022  2022-06-08  \n",
            "515   0.0  14.3  36.3  133.0  107.0  14.5  BOS    2022  2022-06-10  \n",
            "516   0.0   4.1  31.2   81.0   98.0  -1.1  BOS    2022  2022-06-13  \n",
            "517   2.3   8.1  26.9  149.0   97.0  19.0  BOS    2022  2022-06-16  \n",
            "\n",
            "[464 rows x 39 columns]\n"
          ]
        }
      ]
    },
    {
      "cell_type": "code",
      "source": [
        "X = df2.drop(columns=['PTS'])\n",
        "y = df2.PTS# Criando conjunto de treino e teste\n",
        "X_train, X_test, y_train, y_test = train_test_split(X, y, random_state=42)# Treinando modelo\n",
        "model  = RandomForestClassifier()\n",
        "model.fit(X_train, y_train) # Mostrando importância de cada feature\n",
        "model.feature_importances_\n",
        "\n",
        "importances = pd.Series(data=model.feature_importances_, index=df2.drop(columns=['PTS']).columns)\n",
        "sns.barplot(x=importances, y=importances.index, orient='h').set_title('Importância de cada feature')"
      ],
      "metadata": {
        "colab": {
          "base_uri": "https://localhost:8080/",
          "height": 299
        },
        "id": "6WnBJTVVDRes",
        "outputId": "58506e39-857f-4593-a274-fcff385f9e9a"
      },
      "execution_count": null,
      "outputs": [
        {
          "output_type": "execute_result",
          "data": {
            "text/plain": [
              "Text(0.5, 1.0, 'Importância de cada feature')"
            ]
          },
          "metadata": {},
          "execution_count": 69
        },
        {
          "output_type": "display_data",
          "data": {
            "text/plain": [
              "<Figure size 432x288 with 1 Axes>"
            ],
            "image/png": "[encoded data removed]"
          },
          "metadata": {
            "needs_background": "light"
          }
        }
      ]
    },
    {
      "cell_type": "code",
      "source": [
        "# Calculate the mean and standard deviation of the column\n",
        "column = 'MP'\n",
        "mean = df2[column].mean()\n",
        "std = df2[column].std()\n",
        "\n",
        "# Select only the values within +-2 standard deviations of the mean\n",
        "df3 = df2[(df2[column] > mean - 2*std) & (df2[column] < mean + 2*std)]"
      ],
      "metadata": {
        "id": "YDi3YqhTOWRL"
      },
      "execution_count": null,
      "outputs": []
    },
    {
      "cell_type": "code",
      "source": [
        "plt.figure(figsize=(8,4),dpi=288)\n",
        "df3.plot(kind='scatter', x=\"MP\", y=\"PTS\")\n",
        "plt.show()"
      ],
      "metadata": {
        "colab": {
          "base_uri": "https://localhost:8080/",
          "height": 297
        },
        "id": "RNK9Ar8bOcLq",
        "outputId": "7caa71c6-7175-4552-e00c-38b98e0aa8b8"
      },
      "execution_count": null,
      "outputs": [
        {
          "output_type": "display_data",
          "data": {
            "text/plain": [
              "<Figure size 2304x1152 with 0 Axes>"
            ]
          },
          "metadata": {}
        },
        {
          "output_type": "display_data",
          "data": {
            "text/plain": [
              "<Figure size 432x288 with 1 Axes>"
            ],
            "image/png": "[encoded data removed]"
          },
          "metadata": {
            "needs_background": "light"
          }
        }
      ]
    }
  ]
}
